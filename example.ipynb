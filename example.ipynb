{
 "cells": [
  {
   "cell_type": "code",
   "execution_count": 1,
   "metadata": {},
   "outputs": [],
   "source": [
    "from qbot.data.data_field import DataField\n",
    "data_field = DataField(\n",
    "    start_time='2024-01-01',\n",
    "    end_time='2024-12-27'\n",
    ")"
   ]
  },
  {
   "cell_type": "code",
   "execution_count": null,
   "metadata": {},
   "outputs": [],
   "source": [
    "from qbot.strategy.utils import correlation_plot\n",
    "correl_data, labels = correlation_plot(\n",
    "    data_field['ETHUSDT']['close'],\n",
    "    data_field['BTCUSDT']['close'],\n",
    "    x_label='ETH',\n",
    "    y_label='BTC'\n",
    ")"
   ]
  },
  {
   "cell_type": "code",
   "execution_count": null,
   "metadata": {},
   "outputs": [],
   "source": [
    "from qbot.strategy.utils import pairplot_scan\n",
    "new_df = pairplot_scan(\n",
    "    data_field['ETHUSDT'],\n",
    "    x_col='close',\n",
    "    y_col='close',\n",
    "    x_shifts=range(40, 300, 70),\n",
    "    y_shifts=range(-30, -300, -80),\n",
    "    hue_func=lambda df: df['close_pct_change_40'] < -0.085,\n",
    ")"
   ]
  },
  {
   "cell_type": "code",
   "execution_count": null,
   "metadata": {},
   "outputs": [],
   "source": [
    "from qbot.strategy.strategy import Strategy\n",
    "import numpy as np\n",
    "\n",
    "strategy = Strategy(name='226hETHLagging')\n",
    "\n",
    "strategy.hyper_params = {\n",
    "    'shift': 226,\n",
    "    'weight_scale': 25.99348249,\n",
    "    'weight_sigmoid_scale': 2.23440811,\n",
    "    'weight_clip_lower': -0.55174966,\n",
    "    'weight_clip_upper': 0.86291262,\n",
    "    'beta_offset': -0.22802245,\n",
    "    'beta_scale': 1.78955622\n",
    "}\n",
    "\n",
    "def evaluate_func(strategy, data_field):\n",
    "\n",
    "    strategy['timestamp'] = data_field['ETHUSDT']['timestamp']\n",
    "    strategy['ETHUSDT_close'] = data_field['ETHUSDT']['close']\n",
    "    strategy['226h_pct_change'] = strategy['ETHUSDT_close'].pct_change(periods=226)\n",
    "\n",
    "    weight = strategy.hyper_params['weight_scale'] * strategy['226h_pct_change']\n",
    "    weight = (strategy.hyper_params['weight_sigmoid_scale'] * \n",
    "                weight * (1/(1+np.exp(-weight))))\n",
    "    weight = np.clip(\n",
    "        weight,\n",
    "        strategy.hyper_params['weight_clip_lower'],\n",
    "        strategy.hyper_params['weight_clip_upper']\n",
    "    )\n",
    "    weight = weight - strategy.hyper_params['beta_offset']\n",
    "    weight = weight * strategy.hyper_params['beta_scale']\n",
    "\n",
    "    strategy['ETHUSDT_weight'] = weight\n",
    "\n",
    "strategy.evaluate_func = evaluate_func\n",
    "strategy.evaluate(data_field)\n",
    "strategy['ETHUSDT_weight'].plot()\n"
   ]
  },
  {
   "cell_type": "code",
   "execution_count": null,
   "metadata": {},
   "outputs": [],
   "source": [
    "strategy.reference_index = 'ETHUSDT_close'\n",
    "asset_df = strategy.back_testing()\n",
    "strategy.display_result()"
   ]
  }
 ],
 "metadata": {
  "kernelspec": {
   "display_name": "Python 3",
   "language": "python",
   "name": "python3"
  },
  "language_info": {
   "codemirror_mode": {
    "name": "ipython",
    "version": 3
   },
   "file_extension": ".py",
   "mimetype": "text/x-python",
   "name": "python",
   "nbconvert_exporter": "python",
   "pygments_lexer": "ipython3",
   "version": "3.9.20"
  }
 },
 "nbformat": 4,
 "nbformat_minor": 2
}
